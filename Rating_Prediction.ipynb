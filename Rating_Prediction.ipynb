{
 "cells": [
  {
   "cell_type": "code",
   "execution_count": 24,
   "id": "9e1c0f68",
   "metadata": {
    "id": "9e1c0f68"
   },
   "outputs": [],
   "source": [
    "import gzip\n",
    "import json\n",
    "from collections import defaultdict\n",
    "import math\n",
    "from sklearn import svm\n",
    "import numpy as np\n",
    "import string\n",
    "import random\n",
    "import string\n",
    "import csv\n",
    "import nltk"
   ]
  },
  {
   "cell_type": "code",
   "execution_count": 25,
   "id": "D6O8w0lBZoFV",
   "metadata": {
    "colab": {
     "base_uri": "https://localhost:8080/"
    },
    "id": "D6O8w0lBZoFV",
    "outputId": "e4ba0537-a7e2-4f6c-8c46-d083099d3b3e"
   },
   "outputs": [
    {
     "name": "stdout",
     "output_type": "stream",
     "text": [
      "Drive already mounted at /content/drive; to attempt to forcibly remount, call drive.mount(\"/content/drive\", force_remount=True).\n"
     ]
    }
   ],
   "source": [
    "from google.colab import drive\n",
    "drive.mount('/content/drive')"
   ]
  },
  {
   "cell_type": "code",
   "execution_count": 26,
   "id": "teckRSTDa51M",
   "metadata": {
    "id": "teckRSTDa51M"
   },
   "outputs": [],
   "source": [
    "# replace this variable with your data location on your google drive\n",
    "drive_loc = \"/content/drive/MyDrive/CSE158/Assignment2/\""
   ]
  },
  {
   "cell_type": "code",
   "execution_count": 27,
   "id": "fc6d964b",
   "metadata": {
    "colab": {
     "base_uri": "https://localhost:8080/"
    },
    "id": "fc6d964b",
    "outputId": "7a71398f-b78d-4143-f04e-568c6141352c"
   },
   "outputs": [
    {
     "name": "stderr",
     "output_type": "stream",
     "text": [
      "[nltk_data] Downloading package stopwords to /root/nltk_data...\n",
      "[nltk_data]   Package stopwords is already up-to-date!\n"
     ]
    },
    {
     "data": {
      "text/plain": [
       "True"
      ]
     },
     "execution_count": 27,
     "metadata": {},
     "output_type": "execute_result"
    }
   ],
   "source": [
    "nltk.download('stopwords')"
   ]
  },
  {
   "cell_type": "code",
   "execution_count": 28,
   "id": "qN5rQWD2YvCl",
   "metadata": {
    "id": "qN5rQWD2YvCl"
   },
   "outputs": [],
   "source": [
    "import warnings\n",
    "warnings.filterwarnings(\"ignore\")"
   ]
  },
  {
   "cell_type": "code",
   "execution_count": 29,
   "id": "Qg2OF2fSYy9j",
   "metadata": {
    "id": "Qg2OF2fSYy9j"
   },
   "outputs": [],
   "source": [
    "def readGz(path):\n",
    "    g = gzip.open(path, 'r')\n",
    "    for l in g:\n",
    "        l = str(json.loads(l))\n",
    "        yield eval(l)"
   ]
  },
  {
   "cell_type": "markdown",
   "id": "YzlmBKa7eAjo",
   "metadata": {
    "id": "YzlmBKa7eAjo"
   },
   "source": [
    "# Import Dataset"
   ]
  },
  {
   "cell_type": "code",
   "execution_count": 30,
   "id": "WcNZQbtrY2UV",
   "metadata": {
    "id": "WcNZQbtrY2UV"
   },
   "outputs": [],
   "source": [
    "data_modcloth = []\n",
    "modcloth_path = drive_loc + \"modcloth_final_data.json.gz\"\n",
    "for l in readGz(modcloth_path):\n",
    "    data_modcloth.append(l)"
   ]
  },
  {
   "cell_type": "code",
   "execution_count": 31,
   "id": "dCvh4leNbRdt",
   "metadata": {
    "colab": {
     "base_uri": "https://localhost:8080/"
    },
    "id": "dCvh4leNbRdt",
    "outputId": "674d1d83-f82c-401a-8702-486405a59633"
   },
   "outputs": [
    {
     "data": {
      "text/plain": [
       "82790"
      ]
     },
     "execution_count": 31,
     "metadata": {},
     "output_type": "execute_result"
    }
   ],
   "source": [
    "len(data_modcloth)"
   ]
  },
  {
   "cell_type": "code",
   "execution_count": 32,
   "id": "AOS4iEEobWFi",
   "metadata": {
    "colab": {
     "base_uri": "https://localhost:8080/"
    },
    "id": "AOS4iEEobWFi",
    "outputId": "b7cb7289-53cb-4a78-efa8-44d29569b2f0"
   },
   "outputs": [
    {
     "data": {
      "text/plain": [
       "{'item_id': '123373',\n",
       " 'waist': '29',\n",
       " 'size': 7,\n",
       " 'quality': 5,\n",
       " 'cup size': 'd',\n",
       " 'hips': '38',\n",
       " 'bra size': '34',\n",
       " 'category': 'new',\n",
       " 'bust': '36',\n",
       " 'height': '5ft 6in',\n",
       " 'user_name': 'Emily',\n",
       " 'length': 'just right',\n",
       " 'fit': 'small',\n",
       " 'user_id': '991571'}"
      ]
     },
     "execution_count": 32,
     "metadata": {},
     "output_type": "execute_result"
    }
   ],
   "source": [
    "data_modcloth[0]"
   ]
  },
  {
   "cell_type": "code",
   "execution_count": 33,
   "id": "lVhjk547bYFY",
   "metadata": {
    "id": "lVhjk547bYFY"
   },
   "outputs": [],
   "source": [
    "data_renttherunway = []\n",
    "renttherunway_path = drive_loc + \"renttherunway_final_data.json.gz\"\n",
    "for l in readGz(renttherunway_path):\n",
    "  data_renttherunway.append(l)"
   ]
  },
  {
   "cell_type": "code",
   "execution_count": 34,
   "id": "XFnpoaX9bxfS",
   "metadata": {
    "colab": {
     "base_uri": "https://localhost:8080/"
    },
    "id": "XFnpoaX9bxfS",
    "outputId": "f7313162-796a-43ef-cbe4-489be6194aca"
   },
   "outputs": [
    {
     "data": {
      "text/plain": [
       "192544"
      ]
     },
     "execution_count": 34,
     "metadata": {},
     "output_type": "execute_result"
    }
   ],
   "source": [
    "len(data_renttherunway)"
   ]
  },
  {
   "cell_type": "code",
   "execution_count": 35,
   "id": "ND1I7e_EeNeK",
   "metadata": {
    "colab": {
     "base_uri": "https://localhost:8080/"
    },
    "id": "ND1I7e_EeNeK",
    "outputId": "7bdf311b-70da-47d7-942c-2b7dea4c9208"
   },
   "outputs": [
    {
     "data": {
      "text/plain": [
       "{'fit': 'fit',\n",
       " 'user_id': '420272',\n",
       " 'bust size': '34d',\n",
       " 'item_id': '2260466',\n",
       " 'weight': '137lbs',\n",
       " 'rating': '10',\n",
       " 'rented for': 'vacation',\n",
       " 'review_text': \"An adorable romper! Belt and zipper were a little hard to navigate in a full day of wear/bathroom use, but that's to be expected. Wish it had pockets, but other than that-- absolutely perfect! I got a million compliments.\",\n",
       " 'body type': 'hourglass',\n",
       " 'review_summary': 'So many compliments!',\n",
       " 'category': 'romper',\n",
       " 'height': '5\\' 8\"',\n",
       " 'size': 14,\n",
       " 'age': '28',\n",
       " 'review_date': 'April 20, 2016'}"
      ]
     },
     "execution_count": 35,
     "metadata": {},
     "output_type": "execute_result"
    }
   ],
   "source": [
    "data_renttherunway[0]"
   ]
  },
  {
   "cell_type": "markdown",
   "id": "KjC1UIP4elC5",
   "metadata": {
    "id": "KjC1UIP4elC5"
   },
   "source": [
    "# Process `review_text` in `data_renttherunway`"
   ]
  },
  {
   "cell_type": "code",
   "execution_count": 36,
   "id": "BZYD_dTRej2Y",
   "metadata": {
    "id": "BZYD_dTRej2Y"
   },
   "outputs": [],
   "source": [
    "from nltk.stem.snowball import stopwords\n",
    "stopwordsSet = set(stopwords.words(\"english\"))"
   ]
  },
  {
   "cell_type": "code",
   "execution_count": 38,
   "id": "AUNPjfQ5fjqF",
   "metadata": {
    "colab": {
     "base_uri": "https://localhost:8080/"
    },
    "id": "AUNPjfQ5fjqF",
    "outputId": "dffdc30a-9208-43c5-fa75-0a84dd91447e"
   },
   "outputs": [
    {
     "data": {
      "text/plain": [
       "179"
      ]
     },
     "execution_count": 38,
     "metadata": {},
     "output_type": "execute_result"
    }
   ],
   "source": [
    "len(stopwordsSet)"
   ]
  },
  {
   "cell_type": "code",
   "execution_count": 39,
   "id": "uygcwKxxfvxA",
   "metadata": {
    "id": "uygcwKxxfvxA"
   },
   "outputs": [],
   "source": [
    "punctuation = set(string.punctuation)"
   ]
  },
  {
   "cell_type": "code",
   "execution_count": 40,
   "id": "8QNnCkk5fm5l",
   "metadata": {
    "id": "8QNnCkk5fm5l"
   },
   "outputs": [],
   "source": [
    "def clean_text(text):\n",
    "  text = ''.join([c for c in text.lower() if not c in punctuation])\n",
    "  text = ' '.join(w for w in text.split() if w not in stopwordsSet)\n",
    "  return text"
   ]
  },
  {
   "cell_type": "code",
   "execution_count": 41,
   "id": "iz2Ln-tofzJD",
   "metadata": {
    "id": "iz2Ln-tofzJD"
   },
   "outputs": [],
   "source": [
    "# Process the review_text for each entry\n",
    "for d in data_renttherunway:\n",
    "  d['review_text'] = clean_text(d['review_text'])"
   ]
  },
  {
   "cell_type": "code",
   "execution_count": 42,
   "id": "MitMLWyOgKPf",
   "metadata": {
    "colab": {
     "base_uri": "https://localhost:8080/"
    },
    "id": "MitMLWyOgKPf",
    "outputId": "9ff4ac37-d42e-4648-ab81-c287fe061342"
   },
   "outputs": [
    {
     "data": {
      "text/plain": [
       "{'fit': 'fit',\n",
       " 'user_id': '420272',\n",
       " 'bust size': '34d',\n",
       " 'item_id': '2260466',\n",
       " 'weight': '137lbs',\n",
       " 'rating': '10',\n",
       " 'rented for': 'vacation',\n",
       " 'review_text': 'adorable romper belt zipper little hard navigate full day wearbathroom use thats expected wish pockets absolutely perfect got million compliments',\n",
       " 'body type': 'hourglass',\n",
       " 'review_summary': 'So many compliments!',\n",
       " 'category': 'romper',\n",
       " 'height': '5\\' 8\"',\n",
       " 'size': 14,\n",
       " 'age': '28',\n",
       " 'review_date': 'April 20, 2016'}"
      ]
     },
     "execution_count": 42,
     "metadata": {},
     "output_type": "execute_result"
    }
   ],
   "source": [
    "data_renttherunway[0]"
   ]
  },
  {
   "cell_type": "markdown",
   "id": "1S-hxVnGgbto",
   "metadata": {
    "id": "1S-hxVnGgbto"
   },
   "source": [
    "# Data Split"
   ]
  },
  {
   "cell_type": "code",
   "execution_count": 44,
   "id": "mqgYXf7-gP0C",
   "metadata": {
    "id": "mqgYXf7-gP0C"
   },
   "outputs": [],
   "source": [
    "data_renttherunway_train = data_renttherunway[:len(data_renttherunway)]"
   ]
  },
  {
   "cell_type": "code",
   "execution_count": 45,
   "id": "pFFprj3fgs3C",
   "metadata": {
    "id": "pFFprj3fgs3C"
   },
   "outputs": [],
   "source": [
    "data_renttherunway_valid = data_renttherunway[len(data_renttherunway):]"
   ]
  }
 ],
 "metadata": {
  "colab": {
   "provenance": []
  },
  "kernelspec": {
   "display_name": "Python 3",
   "language": "python",
   "name": "python3"
  },
  "language_info": {
   "codemirror_mode": {
    "name": "ipython",
    "version": 3
   },
   "file_extension": ".py",
   "mimetype": "text/x-python",
   "name": "python",
   "nbconvert_exporter": "python",
   "pygments_lexer": "ipython3",
   "version": "3.7.9"
  }
 },
 "nbformat": 4,
 "nbformat_minor": 5
}
